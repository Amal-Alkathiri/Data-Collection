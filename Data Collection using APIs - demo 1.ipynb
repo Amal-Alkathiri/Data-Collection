{
 "cells": [
  {
   "cell_type": "markdown",
   "metadata": {},
   "source": [
    " Data Collection\n",
    "\n",
    "### DEMO 1: Data Collection using APIs\n",
    "\n",
    "### Objectives \n",
    "- Learn about APIs\n",
    "- Learn JSON format\n",
    "- Use Google API Books"
   ]
  },
  {
   "cell_type": "markdown",
   "metadata": {},
   "source": [
    "### What is an API?\n",
    "\n",
    "- HTML, CSS and javascript create a human-readable webpages.\n",
    "- It is useful to implement applications that can consume the data on these webpages.\n",
    "- You can scrape webpages, but, it’s a tedious task!\n",
    "- So, APIs provide machine-readable data for these software, mainly in the form of **JSON responses** (we will shortly learn more about JSON files).\n",
    "- Companies such as Google, Twitter, Facebook, and Tumblr provide access to their data for software developers via their APIs\n",
    "\n",
    "API stands for *Application Programming Interfaces*, many website provide their data through the API so they can control how and when their data is being used. \n",
    "\n",
    "### How an API works?\n",
    "\n",
    "Simply, you send **requests** to a remote server and the remote server **respond** by sending the data back to you.\n",
    "\n",
    "Then, what we need is to:\n",
    "\n",
    "1) Establish our connection to the server \n",
    "\n",
    "2) Send requests\n",
    "\n",
    "3) Receive responses \n",
    "\n",
    "4) Manipulate responses\n"
   ]
  },
  {
   "cell_type": "markdown",
   "metadata": {},
   "source": [
    "### How does the API work? "
   ]
  },
  {
   "cell_type": "markdown",
   "metadata": {},
   "source": [
    "APIs use the HTTP (Hyper-Text Transfer Protocol) which is based on a request-response cycle\n",
    "\n",
    "<img src=\"images/apis.png\" width=60%>\n",
    "From: https://zapier.com/learn/apis/chapter-2-protocols/"
   ]
  },
  {
   "cell_type": "markdown",
   "metadata": {},
   "source": [
    "### Request structure:"
   ]
  },
  {
   "cell_type": "markdown",
   "metadata": {},
   "source": [
    "<img src=\"images/request.png\" width=60%>"
   ]
  },
  {
   "cell_type": "markdown",
   "metadata": {},
   "source": [
    "### Response structure:"
   ]
  },
  {
   "cell_type": "markdown",
   "metadata": {},
   "source": [
    "<img src=\"images/response.png\" width=60%>"
   ]
  },
  {
   "cell_type": "markdown",
   "metadata": {},
   "source": [
    "Complete list of HTTP status codes: https://www.restapitutorial.com/httpstatuscodes.html"
   ]
  },
  {
   "cell_type": "markdown",
   "metadata": {},
   "source": [
    "## Part 1: Using Requests Library"
   ]
  },
  {
   "cell_type": "markdown",
   "metadata": {},
   "source": [
    "Requests is a simple Python HTTP library. It provides methods for accessing Web resources via HTTP. Requests allows you to send HTTP/1.1 requests, without the need for a lot of work. \n",
    "It is avialble within Anaconda. "
   ]
  },
  {
   "cell_type": "code",
   "execution_count": 1,
   "metadata": {},
   "outputs": [],
   "source": [
    "import requests"
   ]
  },
  {
   "cell_type": "code",
   "execution_count": 2,
   "metadata": {},
   "outputs": [],
   "source": [
    "response = requests.get('https://google.com')"
   ]
  },
  {
   "cell_type": "code",
   "execution_count": 3,
   "metadata": {},
   "outputs": [
    {
     "name": "stdout",
     "output_type": "stream",
     "text": [
      "200\n",
      "{'Date': 'Sun, 18 Aug 2019 13:05:14 GMT', 'Expires': '-1', 'Cache-Control': 'private, max-age=0', 'Content-Type': 'text/html; charset=ISO-8859-1', 'P3P': 'CP=\"This is not a P3P policy! See g.co/p3phelp for more info.\"', 'Content-Encoding': 'gzip', 'Server': 'gws', 'X-XSS-Protection': '0', 'X-Frame-Options': 'SAMEORIGIN', 'Set-Cookie': '1P_JAR=2019-08-18-13; expires=Tue, 17-Sep-2019 13:05:14 GMT; path=/; domain=.google.com, NID=188=mQhi7ZWkjyHKaMwJjtxJsAlCDwanBRhNV6m51ZMjScBelGYbE-xYyDLtXvS1hRcbI8MuNbONjXmoRMqYs82NBKe3SAnYvKxwoDfRBa3yEPotVv_LNxO9NzFQtDXc_4ks93oAXd8kP0twTLK3QCkyUrF9NBkTEIUz6BfYRHR2_e8; expires=Mon, 17-Feb-2020 13:05:14 GMT; path=/; domain=.google.com; HttpOnly', 'Alt-Svc': 'quic=\":443\"; ma=2592000; v=\"46,43,39\"', 'Transfer-Encoding': 'chunked'}\n",
      "<!doctype html><html dir=\"rtl\" itemscope=\"\" itemtype=\"http://schema.org/WebPage\" lang=\"ar-SA\"><head><meta content=\"text/html; charset=UTF-8\" http-equiv=\"Content-Type\"><meta content=\"/images/branding/googleg/1x/googleg_standard_color_128dp.png\" itemprop=\"image\"><title>Google</title><script nonce=\"Ur8D9y4VlVFCwkv2raFmNQ==\">(function(){window.google={kEI:'Ck1ZXa7xAoGZkgWe87rAAg',kEXPI:'0,1353747,2015,2422,1,1224,731,223,510,1065,3151,58,321,206,397,620,53,122,1249,60,576,3,124,10,168,94,81,370,164,174,2330385,349,329142,1294,12383,4855,32692,15247,867,12163,5281,7638,3602,364,3319,5505,2442,5367,575,1119,2,579,727,2432,1361,4323,4967,774,2254,4740,7,2895,6412,669,1050,1808,1478,7,491,10953,5297,897,1119,38,920,753,120,1217,1364,1611,2692,44,1558,1503,2,631,3240,44,4783,3239,2884,20,317,1118,902,570,1558,1,369,1316,1461,520,399,992,509,778,6,85,24,2513,174,814,71,82,48,553,11,14,10,1269,1042,1170,202,323,5,1245,7,840,324,193,1068,454,158,3282,335,483,260,52,1137,2,1509,1160,1831,8,184,595,1182,520,361,946,640,747,61,158,26,184,44,999,5,20,6,72,328,1284,16,84,135,282,2426,147,1255,844,91,10,373,116,27,316,693,187,1188,42,120,143,294,671,930,585,908,135,1031,1013,2,313,111,373,7,438,65,225,592,523,72,1167,923,4,485,309,427,374,265,108,112,181,1707,310,1,1071,1126,2,119,33,1036,571,274,330,102,147,381,530,248,2,409,414,76,2,97,5901588,2886,8797454,4,1572,549,333,444,1,2,80,1,900,583,4,309,1,8,1,2,2132,1,1,1,1,1,414,1,748,141,59,726,3,7,563,1,3494,4,2,4,2,19',authuser:0,kscs:'c9c918f0_Ck1ZXa7xAoGZkgWe87rAAg',kGL:'SA',kBL:'gJ-n'};google.sn='webhp';google.kHL='ar-SA';google.jsfs='Ffpdje';})();(function(){google.lc=[];google.li=0;google.getEI=function(a){for(var b;a&&(!a.getAttribute||!(b=a.getAttribute(\"eid\")));)a=a.parentNode;return b||google.kEI};google.getLEI=function(a){for(var b=null;a&&(!a.getAttribute||!(b=a.getAttribute(\"leid\")));)a=a.parentNode;return b};google.https=function(){return\"https:\"==window.location.protocol};google.ml=function(){return null};google.time=function(){return(new Date).getTime()};google.log=function(a,b,e,c,g){if(a=google.logUrl(a,b,e,c,g)){b=new Image;var d=google.lc,f=google.li;d[f]=b;b.onerror=b.onload=b.onabort=function(){delete d[f]};google.vel&&google.vel.lu&&google.vel.lu(a);b.src=a;google.li=f+1}};google.logUrl=function(a,b,e,c,g){var d=\"\",f=google.ls||\"\";e||-1!=b.search(\"&ei=\")||(d=\"&ei=\"+google.getEI(c),-1==b.search(\"&lei=\")&&(c=google.getLEI(c))&&(d+=\"&lei=\"+c));c=\"\";!e&&google.cshid&&-1==b.search(\"&cshid=\")&&\"slh\"!=a&&(c=\"&cshid=\"+google.cshid);a=e||\"/\"+(g||\"gen_204\")+\"?atyp=i&ct=\"+a+\"&cad=\"+b+d+f+\"&zx=\"+google.time()+c;/^http:/i.test(a)&&google.https()&&(google.ml(Error(\"a\"),!1,{src:a,glmm:1}),a=\"\");return a};}).call(this);(function(){google.y={};google.x=function(a,b){if(a)var c=a.id;else{do c=Math.random();while(google.y[c])}google.y[c]=[a,b];return!1};google.lm=[];google.plm=function(a){google.lm.push.apply(google.lm,a)};google.lq=[];google.load=function(a,b,c){google.lq.push([[a],b,c])};google.loadAll=function(a,b){google.lq.push([a,b])};}).call(this);google.f={};var a=window.location,b=a.href.indexOf(\"#\");if(0<=b){var c=a.href.substring(b+1);/(^|&)q=/.test(c)&&-1==c.indexOf(\"#\")&&a.replace(\"/search?\"+c.replace(/(^|&)fp=[^&]*/g,\"\")+\"&cad=h\")};</script><style>#gbar,#guser{font-size:13px;padding-top:1px !important;}#gbar{height:22px}#guser{padding-bottom:7px !important;text-align:left}.gbh,.gbd{border-top:1px solid #c9d7f1;font-size:1px}.gbh{height:0;position:absolute;top:24px;width:100%}@media all{.gb1{height:22px;margin-left:.5em;vertical-align:top}#gbar{float:right}}a.gb1,a.gb4{text-decoration:underline !important}a.gb1,a.gb4{color:#00c !important}.gbi .gb4{color:#dd8e27 !important}.gbf .gb4{color:#900 !important}\n",
      "</style><style>body,td,a,p,.h{font-family:arial,sans-serif}body{margin:0;overflow-y:scroll}#gog{padding:3px 8px 0}td{line-height:.8em}.gac_m td{line-height:17px}form{margin-bottom:20px}.h{color:#36c}.q{color:#00c}.ts td{padding:0}.ts{border-collapse:collapse}em{font-weight:bold;font-style:normal}.lst{height:25px;width:496px}.gsfi,.lst{font:18px arial,sans-serif}.gsfs{font:17px arial,sans-serif}.ds{display:inline-box;display:inline-block;margin:3px 0 4px;margin-right:4px}input{font-family:inherit}a.gb1,a.gb2,a.gb3,a.gb4{color:#11c !important}body{background:#fff;color:black}a{color:#11c;text-decoration:none}a:hover,a:active{text-decoration:underline}.fl a{color:#36c}a:visited{color:#551a8b}a.gb1,a.gb4{text-decoration:underline}a.gb3:hover{text-decoration:none}#ghead a.gb2:hover{color:#fff !important}.sblc{padding-top:5px}.sblc a{display:block;margin:2px 0;margin-right:13px;font-size:11px}.lsbb{background:#eee;border:solid 1px;border-color:#ccc #ccc #999 #999;height:30px}.lsbb{display:block}.ftl,#fll a{display:inline-block;margin:0 12px}.lsb{background:url(/images/nav_logo229.png) 0 -261px repeat-x;border:none;color:#000;cursor:pointer;height:30px;margin:0;outline:0;font:15px arial,sans-serif;vertical-align:top}.lsb:active{background:#ccc}.lst:focus{outline:none}.tiah{width:458px}</style><script nonce=\"Ur8D9y4VlVFCwkv2raFmNQ==\"></script></head><body bgcolor=\"#fff\"><script nonce=\"Ur8D9y4VlVFCwkv2raFmNQ==\">(function(){var src='/images/nav_logo229.png';var iesg=false;document.body.onload = function(){window.n && window.n();if (document.images){new Image().src=src;}\n",
      "if (!iesg){document.f&&document.f.q.focus();document.gbqf&&document.gbqf.q.focus();}\n",
      "}\n",
      "})();</script><div id=\"mngb\"> <div id=gbar><nobr><b class=gb1>&#1576;&#1581;&#1579;</b> <a class=gb1 href=\"https://www.google.com.sa/imghp?hl=ar&tab=wi\">&#1589;&#1608;&#1585;</a> <a class=gb1 href=\"https://maps.google.com.sa/maps?hl=ar&tab=wl\">&#1582;&#1585;&#1575;&#1574;&#1591;</a> <a class=gb1 href=\"https://www.youtube.com/?gl=SA&tab=w1\">YouTube</a> <a class=gb1 href=\"https://news.google.com.sa/nwshp?hl=ar&ned=ar_me&tab=wn\">&#1575;&#1604;&#1571;&#1582;&#1576;&#1575;&#1585;</a> <a class=gb1 href=\"https://mail.google.com/mail/?tab=wm\">Gmail</a> <a class=gb1 href=\"https://drive.google.com/?tab=wo\">Drive</a> <a class=gb1 href=\"https://www.google.com/calendar?tab=wc\">&#1578;&#1602;&#1608;&#1610;&#1605;</a> <a class=gb1 style=\"text-decoration:none\" href=\"https://www.google.com.sa/intl/ar/about/products?tab=wh\"><u>&#1575;&#1604;&#1605;&#1586;&#1610;&#1583;</u> &raquo;</a></nobr></div><div id=guser width=100%><nobr><span id=gbn class=gbi></span><span id=gbf class=gbf></span><span id=gbe></span><a href=\"http://www.google.com.sa/history/optout?hl=ar\" class=gb4>&#1587;&#1616;&#1580;&#1604; &#1576;&#1581;&#1579; &#1575;&#1604;&#1608;&#1610;&#1576;</a> | <a  href=\"/preferences?hl=ar\" class=gb4>&#1575;&#1604;&#1573;&#1593;&#1583;&#1575;&#1583;&#1575;&#1578;</a> | <a target=_top id=gb_70 href=\"https://accounts.google.com/ServiceLogin?hl=ar&passive=true&continue=https://www.google.com/\" class=gb4>&#1578;&#1587;&#1580;&#1610;&#1604; &#1575;&#1604;&#1583;&#1582;&#1608;&#1604;</a></nobr></div><div class=gbh style=left:0></div><div class=gbh style=right:0></div> </div><center><br clear=\"all\" id=\"lgpd\"><div id=\"lga\"><img alt=\"Google\" height=\"92\" src=\"/images/branding/googlelogo/1x/googlelogo_white_background_color_272x92dp.png\" style=\"padding:28px 0 14px\" width=\"272\" id=\"hplogo\"><br><br></div><form action=\"/search\" name=\"f\"><table cellpadding=\"0\" cellspacing=\"0\"><tr valign=\"top\"><td width=\"25%\">&nbsp;</td><td align=\"center\" nowrap=\"\"><input name=\"ie\" value=\"ISO-8859-1\" type=\"hidden\"><input value=\"ar-SA\" name=\"hl\" type=\"hidden\"><input name=\"source\" type=\"hidden\" value=\"hp\"><input name=\"biw\" type=\"hidden\"><input name=\"bih\" type=\"hidden\"><div class=\"ds\" style=\"height:32px;margin:4px 0\"><div style=\"position:relative;zoom:1\"><input style=\"color:#000;margin:0;padding:5px 6px 0 8px;vertical-align:top;padding-left:38px\" autocomplete=\"off\" class=\"lst tiah\" value=\"\" title=\"&#1576;&#1581;&#1579; Google\" maxlength=\"2048\" name=\"q\" size=\"57\"><img src=\"/textinputassistant/tia.png\" style=\"position:absolute;cursor:pointer;left:5px;top:4px;z-index:300\" data-script-url=\"/textinputassistant/11/ar_tia.js\" alt=\"\" height=\"23\" onclick=\"var s=document.createElement('script');s.src=this.getAttribute('data-script-url');(document.getElementById('xjsc')||document.body).appendChild(s);\" width=\"27\"></div></div><br style=\"line-height:0\"><span class=\"ds\"><span class=\"lsbb\"><input class=\"lsb\" value=\"&#1576;&#1581;&#1579; Google\" name=\"btnG\" type=\"submit\"></span></span><span class=\"ds\"><span class=\"lsbb\"><input class=\"lsb\" value=\"&#1590;&#1585;&#1576;&#1577; &#1581;&#1592;\" name=\"btnI\" onclick=\"/*gws_metadata_pragma__js_inline_handler*/ if(this.form.q.value){ this.checked=1; if (this.form.iflsig)this.form.iflsig.disabled=false; } else top.location='/doodles/'\" type=\"submit\"></span></span></td><td class=\"fl sblc\" align=\"right\" nowrap=\"\" width=\"25%\"><a href=\"/advanced_search?hl=ar-SA&amp;authuser=0\">&#1576;&#1581;&#1579; &#1605;&#1578;&#1602;&#1583;&#1605;</a><a href=\"/language_tools?hl=ar-SA&amp;authuser=0\">&#1571;&#1583;&#1608;&#1575;&#1578; &#1575;&#1604;&#1604;&#1594;&#1577;</a></td></tr></table><input id=\"gbv\" name=\"gbv\" type=\"hidden\" value=\"1\"><script nonce=\"Ur8D9y4VlVFCwkv2raFmNQ==\">(function(){var a,b=\"1\";if(document&&document.getElementById)if(\"undefined\"!=typeof XMLHttpRequest)b=\"2\";else if(\"undefined\"!=typeof ActiveXObject){var c,d,e=[\"MSXML2.XMLHTTP.6.0\",\"MSXML2.XMLHTTP.3.0\",\"MSXML2.XMLHTTP\",\"Microsoft.XMLHTTP\"];for(c=0;d=e[c++];)try{new ActiveXObject(d),b=\"2\"}catch(h){}}a=b;if(\"2\"==a&&-1==location.search.indexOf(\"&gbv=2\")){var f=google.gbvu,g=document.getElementById(\"gbv\");g&&(g.value=a);f&&window.setTimeout(function(){location.href=f},0)};}).call(this);</script></form><div id=\"gac_scont\"></div><div style=\"font-size:83%;min-height:3.5em\"><br><div id=\"gws-output-pages-elements-homepage_additional_languages__als\"><style>#gws-output-pages-elements-homepage_additional_languages__als{font-size:small;margin-bottom:24px}#SIvCob{display:inline-block;line-height:28px;}#SIvCob a{padding:0 3px;}.H6sW5{display:inline-block;margin:0 2px;white-space:nowrap}.z4hgWe{display:inline-block;margin:0 2px}</style><div id=\"SIvCob\">&#1605;&#1581;&#1585;&#1617;&#1603; &#1576;&#1581;&#1579; Google &#1605;&#1578;&#1608;&#1601;&#1617;&#1585; &#1576;&#1575;&#1604;&#1604;&#1594;&#1577;:  <a dir=\"ltr\" href=\"https://www.google.com/setprefs?sig=0_n0JtS73k4RUiiZg50OvgWFzQkXM%3D&amp;hl=en&amp;source=homepage&amp;sa=X&amp;ved=0ahUKEwiunpr-vYzkAhWBjKQKHZ65DigQ2ZgBCAU\">English</a>  </div></div></div><span id=\"footer\"><div style=\"font-size:10pt\"><div style=\"margin:19px auto;text-align:center\" id=\"fll\"><a href=\"/intl/ar/ads/\">&#1575;&#1604;&#1576;&#1585;&#1606;&#1575;&#1605;&#1580; &#1575;&#1604;&#1573;&#1593;&#1604;&#1575;&#1606;&#1610;</a><a href=\"http://www.google.com/intl/ar/services/\">&#1581;&#1604;&#1608;&#1604; &#1575;&#1604;&#1588;&#1585;&#1603;&#1575;&#1578;</a><a href=\"/intl/ar/about.html\">&#1603;&#1604; &#1605;&#1575; &#1578;&#1581;&#1576; &#1605;&#1593;&#1585;&#1601;&#1578;&#1607; &#1593;&#1606; Google &#1607;&#1606;&#1575;</a><a dir=\"ltr\" href=\"https://www.google.com/setprefdomain?prefdom=SA&amp;prev=https://www.google.com.sa/&amp;sig=K_5I5P9zWoFP4CHLRAZ5rvrTcJTHw%3D\">Google.com.sa</a></div></div><p style=\"color:#767676;font-size:8pt\">&copy; 2019 - <a href=\"/intl/ar/policies/privacy/\">&#1575;&#1604;&#1582;&#1589;&#1608;&#1589;&#1610;&#1577;</a> - <a href=\"/intl/ar/policies/terms/\">&#1575;&#1604;&#1576;&#1606;&#1608;&#1583;</a></p></span></center><script nonce=\"Ur8D9y4VlVFCwkv2raFmNQ==\">(function(){window.google.cdo={height:0,width:0};(function(){var a=window.innerWidth,b=window.innerHeight;if(!a||!b){var c=window.document,d=\"CSS1Compat\"==c.compatMode?c.documentElement:c.body;a=d.clientWidth;b=d.clientHeight}a&&b&&(a!=google.cdo.width||b!=google.cdo.height)&&google.log(\"\",\"\",\"/client_204?&atyp=i&biw=\"+a+\"&bih=\"+b+\"&ei=\"+google.kEI);}).call(this);})();(function(){var u='/xjs/_/js/k\\x3dxjs.hp.en._zLl2Vx_rHE.O/m\\x3dsb_he,d/am\\x3dABbUBA/d\\x3d1/rs\\x3dACT90oH6j5EZSBDLlECdI9pnYR1rsQ0bRg';setTimeout(function(){var a=document.createElement(\"script\");a.src=u;google.timers&&google.timers.load&&google.tick&&google.tick(\"load\",\"xjsls\");document.body.appendChild(a)},0);})();(function(){window.google.xjsu='/xjs/_/js/k\\x3dxjs.hp.en._zLl2Vx_rHE.O/m\\x3dsb_he,d/am\\x3dABbUBA/d\\x3d1/rs\\x3dACT90oH6j5EZSBDLlECdI9pnYR1rsQ0bRg';})();function _DumpException(e){throw e;}\n",
      "function _F_installCss(c){}\n",
      "(function(){google.spjs=false;google.snet=true;google.em=[];google.emw=false;})();google.sm=1;(function(){var pmc='{\\x22Qnk92g\\x22:{},\\x22RWGcrA\\x22:{},\\x22U5B21g\\x22:{},\\x22YFCs/g\\x22:{},\\x22ZI/YVQ\\x22:{},\\x22d\\x22:{},\\x22mVopag\\x22:{},\\x22sb_he\\x22:{\\x22agen\\x22:true,\\x22cgen\\x22:true,\\x22client\\x22:\\x22heirloom-hp\\x22,\\x22dh\\x22:true,\\x22dhqt\\x22:true,\\x22ds\\x22:\\x22\\x22,\\x22ffql\\x22:\\x22en\\x22,\\x22fl\\x22:true,\\x22host\\x22:\\x22google.com\\x22,\\x22isbh\\x22:28,\\x22jsonp\\x22:true,\\x22msgs\\x22:{\\x22cibl\\x22:\\x22&#1605;&#1581;&#1608; &#1575;&#1604;&#1576;&#1581;&#1579;\\x22,\\x22dym\\x22:\\x22&#1607;&#1604; &#1578;&#1602;&#1589;&#1583; :\\x22,\\x22lcky\\x22:\\x22&#1590;&#1585;&#1576;&#1577; &#1581;&#1592;\\x22,\\x22lml\\x22:\\x22&#1605;&#1586;&#1610;&#1583; &#1605;&#1606; &#1575;&#1604;&#1605;&#1593;&#1604;&#1608;&#1605;&#1575;&#1578;\\x22,\\x22oskt\\x22:\\x22&#1571;&#1583;&#1608;&#1575;&#1578; &#1575;&#1604;&#1573;&#1583;&#1582;&#1575;&#1604;\\x22,\\x22psrc\\x22:\\x22&#1578;&#1605;&#1578; &#1573;&#1586;&#1575;&#1604;&#1577; &#1607;&#1584;&#1575; &#1575;&#1604;&#1576;&#1581;&#1579; &#1605;&#1606; \\\\u003Ca href\\x3d\\\\\\x22/history\\\\\\x22\\\\u003E&#1587;&#1616;&#1580;&#1604; &#1575;&#1604;&#1576;&#1581;&#1579;\\\\u003C/a\\\\u003E.\\x22,\\x22psrl\\x22:\\x22&#1573;&#1586;&#1575;&#1604;&#1577;\\x22,\\x22sbit\\x22:\\x22&#1575;&#1604;&#1576;&#1581;&#1579; &#1576;&#1581;&#1587;&#1576; &#1575;&#1604;&#1589;&#1608;&#1585;\\x22,\\x22srch\\x22:\\x22&#1576;&#1581;&#1579; Google\\u200f\\x22},\\x22ovr\\x22:{},\\x22pq\\x22:\\x22\\x22,\\x22refpd\\x22:true,\\x22rfs\\x22:[],\\x22sbpl\\x22:24,\\x22sbpr\\x22:24,\\x22scd\\x22:10,\\x22sce\\x22:5,\\x22stok\\x22:\\x22r4EI0pDPtQGLlZBy3jAW8ciwFrA\\x22,\\x22uhde\\x22:false}}';google.pmc=JSON.parse(pmc);})();</script>        </body></html>\n"
     ]
    }
   ],
   "source": [
    "print(response.status_code)\n",
    "print(response.headers)\n",
    "print(response.text)"
   ]
  },
  {
   "cell_type": "code",
   "execution_count": 4,
   "metadata": {},
   "outputs": [
    {
     "data": {
      "text/plain": [
       "{'Date': 'Sun, 18 Aug 2019 13:05:14 GMT', 'Expires': '-1', 'Cache-Control': 'private, max-age=0', 'Content-Type': 'text/html; charset=ISO-8859-1', 'P3P': 'CP=\"This is not a P3P policy! See g.co/p3phelp for more info.\"', 'Content-Encoding': 'gzip', 'Server': 'gws', 'X-XSS-Protection': '0', 'X-Frame-Options': 'SAMEORIGIN', 'Set-Cookie': '1P_JAR=2019-08-18-13; expires=Tue, 17-Sep-2019 13:05:14 GMT; path=/; domain=.google.com, NID=188=mQhi7ZWkjyHKaMwJjtxJsAlCDwanBRhNV6m51ZMjScBelGYbE-xYyDLtXvS1hRcbI8MuNbONjXmoRMqYs82NBKe3SAnYvKxwoDfRBa3yEPotVv_LNxO9NzFQtDXc_4ks93oAXd8kP0twTLK3QCkyUrF9NBkTEIUz6BfYRHR2_e8; expires=Mon, 17-Feb-2020 13:05:14 GMT; path=/; domain=.google.com; HttpOnly', 'Alt-Svc': 'quic=\":443\"; ma=2592000; v=\"46,43,39\"', 'Transfer-Encoding': 'chunked'}"
      ]
     },
     "execution_count": 4,
     "metadata": {},
     "output_type": "execute_result"
    }
   ],
   "source": [
    "response.headers"
   ]
  },
  {
   "cell_type": "markdown",
   "metadata": {},
   "source": [
    "### Lets try something real!\n",
    "\n",
    "We will use Google Books APIs\n",
    "\n",
    "https://developers.google.com/books/\n",
    "\n",
    "You can find the reference and other examples here: https://developers.google.com/books/docs/v1/reference/"
   ]
  },
  {
   "cell_type": "markdown",
   "metadata": {},
   "source": [
    "Copy and paste the following URL in a browser:\n",
    "    \n",
    "    https://www.googleapis.com/books/v1/volumes?q=isbn:1860462979\n",
    "\n",
    "What can you see?"
   ]
  },
  {
   "cell_type": "markdown",
   "metadata": {},
   "source": [
    "Google books API send requests to get information about books using their isbn.\n",
    "\n",
    "While opening the URL in a browser, the browser sends the HTTP request to get the information from the API. \n",
    "The response is what you saw in the browser. \n",
    "\n",
    "#### But what is that format?"
   ]
  },
  {
   "cell_type": "markdown",
   "metadata": {},
   "source": [
    "Yes!\n",
    "That is a JSON response!\n",
    "\n",
    "Let us investigate it!"
   ]
  },
  {
   "cell_type": "markdown",
   "metadata": {},
   "source": [
    "JSON (JavaScript Object Notation) \n",
    "a lightweight data-interchange format. \n",
    "JSON is easy for humans to read and write and is easy for machines to parse and generate.\n",
    "\n",
    "More info at: http://json.org\n",
    "\n",
    "Tutorial at: http://www.w3schools.com/json/ "
   ]
  },
  {
   "cell_type": "markdown",
   "metadata": {},
   "source": [
    "#### JSON Syntax:"
   ]
  },
  {
   "cell_type": "markdown",
   "metadata": {},
   "source": [
    "<img src=\"images/json.png\" width=60%>"
   ]
  },
  {
   "cell_type": "markdown",
   "metadata": {},
   "source": [
    "Now go back to the page you have, and try to identify data pairs, objects and arrays."
   ]
  },
  {
   "cell_type": "markdown",
   "metadata": {},
   "source": [
    "### Questions:\n",
    "- What is the type of categories?\n",
    "- How many authors are there?\n",
    "- How many objects are there in items (Use https://jsonlint.com/ for a better visulaisation of the JSON file."
   ]
  },
  {
   "cell_type": "markdown",
   "metadata": {},
   "source": [
    "### lets try it in python!"
   ]
  },
  {
   "cell_type": "code",
   "execution_count": 5,
   "metadata": {},
   "outputs": [
    {
     "name": "stdout",
     "output_type": "stream",
     "text": [
      "Blindness\n",
      "José Saramago\n"
     ]
    }
   ],
   "source": [
    "APIRequest = 'https://www.googleapis.com/books/v1/volumes?q=isbn:1860462979'\n",
    "try:\n",
    "    response = requests.get(APIRequest)\n",
    "    results = response.json()\n",
    "    title = results['items'][0]['volumeInfo']['title']\n",
    "    author = results['items'][0]['volumeInfo']['authors'][0]\n",
    "    \n",
    "    print (title)\n",
    "    print (author)\n",
    "except:\n",
    "    print (\"There was something wrong!\")"
   ]
  },
  {
   "cell_type": "code",
   "execution_count": 6,
   "metadata": {},
   "outputs": [
    {
     "name": "stdout",
     "output_type": "stream",
     "text": [
      "Artificial Intelligence\n",
      "Stuart Jonathan Russell\n",
      "Peter Norvig\n"
     ]
    }
   ],
   "source": [
    "APIRequest = 'https://www.googleapis.com/books/v1/volumes?q=isbn:1292024208'\n",
    "try:\n",
    "    response = requests.get(APIRequest)\n",
    "    results = response.json()\n",
    "    title = results['items'][0]['volumeInfo']['title']\n",
    "    author1 = results['items'][0]['volumeInfo']['authors'][0]\n",
    "    author2 = results['items'][0]['volumeInfo']['authors'][1]\n",
    "    print (title)\n",
    "    print (author1)\n",
    "    print (author2)\n",
    "except:\n",
    "    print (\"There was something wrong!\")      "
   ]
  },
  {
   "cell_type": "markdown",
   "metadata": {},
   "source": [
    "- Now you saw that in the previous example there are two authors, change the above code so you can iterate through the authors array and get all the authors automatically. "
   ]
  },
  {
   "cell_type": "code",
   "execution_count": 7,
   "metadata": {},
   "outputs": [
    {
     "name": "stdout",
     "output_type": "stream",
     "text": [
      "Artificial Intelligence\n",
      "['Stuart Jonathan Russell', 'Peter Norvig']\n"
     ]
    }
   ],
   "source": [
    "APIRequest = 'https://www.googleapis.com/books/v1/volumes?q=isbn:1292024208'\n",
    "try:\n",
    "    response = requests.get(APIRequest)\n",
    "    results = response.json()\n",
    "    title = results['items'][0]['volumeInfo']['title']\n",
    "    authors = []\n",
    "    for author in results['items'][0]['volumeInfo']['authors']:\n",
    "        authors.append(author)\n",
    "    print (title)\n",
    "    print (authors)\n",
    "\n",
    "except:\n",
    "    print (\"There was something wrong!\")      "
   ]
  },
  {
   "cell_type": "markdown",
   "metadata": {},
   "source": [
    "- You are given a csv file that contains a list of isbn numbers and you are asked to get:\n",
    "    \n",
    "    1- Title\n",
    "    \n",
    "    2- Author(s) - use a foor loop to print all the names \n",
    "    \n",
    "    3- published Date\n",
    "    \n",
    "    \n",
    "- Note: Replae the print in the except with 'continue' so it will not repeatedly print \"There was something wrong!\".\n",
    "\n",
    "- Use this code to print all the authors in a pythonic way: \n",
    "(\",\".join([str(x) for x in array])"
   ]
  },
  {
   "cell_type": "code",
   "execution_count": 8,
   "metadata": {},
   "outputs": [
    {
     "name": "stdout",
     "output_type": "stream",
     "text": [
      "Artificial Intelligence\n",
      "Stuart Jonathan Russell, Peter Norvig\n",
      "2013-07-31\n",
      "['Stuart Jonathan Russell', 'Peter Norvig']\n",
      "Blindness\n",
      "José Saramago\n",
      "1997-10\n",
      "['José Saramago']\n",
      "Great Expectations\n",
      "Charles Dickens\n",
      "2018-06-28\n",
      "['Charles Dickens']\n",
      "Pride and Prejudice\n",
      "Jane Austen\n",
      "1992\n",
      "['Jane Austen']\n",
      "سمراويت\n",
      "جابر، حجي\n",
      "2012\n",
      "['جابر، حجي']\n",
      "Post Office\n",
      "Charles Bukowski\n",
      "2011-10-31\n",
      "['Charles Bukowski']\n",
      "العصفورية\n",
      "غازي القصيبي, دار الساقي\n",
      "2017-03-21\n",
      "['غازي القصيبي', 'دار الساقي']\n",
      "القضايا الكبرى\n",
      "مالك نبي\n",
      "2014-01-01\n",
      "['مالك نبي']\n",
      "ثلاثية غرناطة\n",
      "رضوي عاشور, دار الشروق\n",
      "2001\n",
      "['رضوي عاشور', 'دار الشروق']\n"
     ]
    }
   ],
   "source": [
    "import pandas as pd\n",
    "isbns = pd.read_csv(\"isbn.csv\", names =[\"isbn\"] ,header=None)\n",
    "\n",
    "for index, row in isbns.iterrows():\n",
    "    APIRequest = 'https://www.googleapis.com/books/v1/volumes?q=isbn:' + str(row[0])\n",
    "    try:\n",
    "        response = requests.get(APIRequest)\n",
    "        results = response.json()\n",
    "        title = results['items'][0]['volumeInfo']['title']\n",
    "       \n",
    "        authors = []\n",
    "        for author in results['items'][0]['volumeInfo']['authors']:\n",
    "            authors.append(author)\n",
    "        \n",
    "        publishedDate = results['items'][0]['volumeInfo']['publishedDate']\n",
    "        print (title)\n",
    "        print (\", \".join([str(x) for x in authors])) \n",
    "        print (publishedDate)\n",
    "        print (authors)\n",
    "    except:\n",
    "        continue"
   ]
  },
  {
   "cell_type": "code",
   "execution_count": null,
   "metadata": {},
   "outputs": [],
   "source": []
  }
 ],
 "metadata": {
  "kernelspec": {
   "display_name": "Python 3",
   "language": "python",
   "name": "python3"
  },
  "language_info": {
   "codemirror_mode": {
    "name": "ipython",
    "version": 3
   },
   "file_extension": ".py",
   "mimetype": "text/x-python",
   "name": "python",
   "nbconvert_exporter": "python",
   "pygments_lexer": "ipython3",
   "version": "3.7.3"
  }
 },
 "nbformat": 4,
 "nbformat_minor": 2
}
